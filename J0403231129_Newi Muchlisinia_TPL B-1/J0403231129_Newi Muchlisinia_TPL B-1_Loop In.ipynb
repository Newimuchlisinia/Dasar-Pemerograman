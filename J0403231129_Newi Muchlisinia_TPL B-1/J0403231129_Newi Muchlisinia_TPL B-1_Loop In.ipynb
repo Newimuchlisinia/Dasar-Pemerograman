{
 "cells": [
  {
   "cell_type": "markdown",
   "metadata": {},
   "source": [
    "Nama : Newi Muchlisinia\n",
    "NIM : J0403231129\n",
    "Email : newiniamuchlisinia@apps.ipb.ac.id"
   ]
  },
  {
   "cell_type": "code",
   "execution_count": 4,
   "metadata": {},
   "outputs": [
    {
     "name": "stdout",
     "output_type": "stream",
     "text": [
      "One of my favorite desserts is Churros\n",
      "One of my favorite desserts is Tiramisú\n",
      "One of my favorite desserts is Pudding\n"
     ]
    }
   ],
   "source": [
    "# iteration variabel\n",
    "favorites = ['Churros', 'Tiramisú', 'Pudding']\n",
    "\n",
    "count = 0\t\t# count is iteration variable\n",
    "\n",
    "while count < len(favorites):\n",
    "    print('One of my favorite desserts is', favorites[count]);\n",
    "    count += 1"
   ]
  },
  {
   "cell_type": "code",
   "execution_count": 1,
   "metadata": {},
   "outputs": [
    {
     "name": "stdout",
     "output_type": "stream",
     "text": [
      "1210\n",
      "1464\n",
      "1772\n",
      "2144\n",
      "It took 4 minutes for the bacteria to double.\n",
      "The final population was 2144 bacteria.\n"
     ]
    }
   ],
   "source": [
    "#example\n",
    "time = 0\n",
    "population = 1000 # 1000 bacteria to start with\n",
    "growth_rate = 0.21 # 21% growth per minute\n",
    "while population < 2000:\n",
    "    population = population + growth_rate * population\n",
    "    print(round(population))\n",
    "    time = time + 1\n",
    "print(\"It took\", time, \"minutes for the bacteria to double.\")\n",
    "print(\"The final population was\", round(population), \"bacteria.\")"
   ]
  },
  {
   "cell_type": "code",
   "execution_count": null,
   "metadata": {},
   "outputs": [],
   "source": [
    "#examples - infinite loop\n",
    "\n",
    "count = 0\t# Incorrectly initialized variable\n",
    "while count < 10:\n",
    "    print(\"This loop will never exit\")\n",
    "\n",
    "flag = True\t#flag that never change\n",
    "while flag:\n",
    "    print(\"This loop will run indefinitely\")\n",
    "\n",
    "x = 5\n",
    "while x > 0:\n",
    "    print(\"This loop will run forever\")\n",
    "x = x - 1  # Logical error: missing decrement in the loop, so x will never be less than or equal to 0\n",
    "\n",
    "# Use multivalued assignment to set up controls\n",
    "time, population, growth_rate = 0, 1000, 0.21\n",
    "# Don't stop until we're exactly double the original size\n",
    "while population != 2000:\n",
    "    population = population + growth_rate * population\n",
    "    print(round(population))\n",
    "    time = time + 1\n",
    "print(\"It took\", time, \"minutes for the bacteria to double.\")"
   ]
  },
  {
   "cell_type": "code",
   "execution_count": 3,
   "metadata": {},
   "outputs": [
    {
     "name": "stdout",
     "output_type": "stream",
     "text": [
      "…exiting program\n"
     ]
    },
    {
     "ename": "NameError",
     "evalue": "name 'Break' is not defined",
     "output_type": "error",
     "traceback": [
      "\u001b[1;31m---------------------------------------------------------------------------\u001b[0m",
      "\u001b[1;31mNameError\u001b[0m                                 Traceback (most recent call last)",
      "\u001b[1;32md:\\Dasar Pemrograman\\loop_in.ipynb Cell 5\u001b[0m line \u001b[0;36m8\n\u001b[0;32m      <a href='vscode-notebook-cell:/d%3A/Dasar%20Pemrograman/loop_in.ipynb#W4sZmlsZQ%3D%3D?line=5'>6</a>\u001b[0m \u001b[39mif\u001b[39;00m text \u001b[39m==\u001b[39m \u001b[39m\"\u001b[39m\u001b[39mq\u001b[39m\u001b[39m\"\u001b[39m:\n\u001b[0;32m      <a href='vscode-notebook-cell:/d%3A/Dasar%20Pemrograman/loop_in.ipynb#W4sZmlsZQ%3D%3D?line=6'>7</a>\u001b[0m   \u001b[39mprint\u001b[39m(\u001b[39m\"\u001b[39m\u001b[39m…exiting program\u001b[39m\u001b[39m\"\u001b[39m)\n\u001b[1;32m----> <a href='vscode-notebook-cell:/d%3A/Dasar%20Pemrograman/loop_in.ipynb#W4sZmlsZQ%3D%3D?line=7'>8</a>\u001b[0m   Break\t\t\t\t\t\t\t\t\t\t\t\u001b[39m# break\u001b[39;00m\n\u001b[0;32m      <a href='vscode-notebook-cell:/d%3A/Dasar%20Pemrograman/loop_in.ipynb#W4sZmlsZQ%3D%3D?line=8'>9</a>\u001b[0m \u001b[39melif\u001b[39;00m text \u001b[39m==\u001b[39m \u001b[39m\"\u001b[39m\u001b[39mH2O\u001b[39m\u001b[39m\"\u001b[39m:\n\u001b[0;32m     <a href='vscode-notebook-cell:/d%3A/Dasar%20Pemrograman/loop_in.ipynb#W4sZmlsZQ%3D%3D?line=9'>10</a>\u001b[0m   \u001b[39mprint\u001b[39m(\u001b[39m\"\u001b[39m\u001b[39mWater\u001b[39m\u001b[39m\"\u001b[39m)\n",
      "\u001b[1;31mNameError\u001b[0m: name 'Break' is not defined"
     ]
    }
   ],
   "source": [
    "#Example - Avoid Infinite Loop using Proper Condition, User Input & Break\n",
    "\n",
    "text = \"\"\n",
    "while text != \"q\":\t\t\t\t\t\t\t\t\t\t# not use while True\n",
    "  text = input(\"Please enter a chemical formula (or 'q' to exit): \")\t# user input\n",
    "  if text == \"q\":\n",
    "    print(\"…exiting program\")\n",
    "    Break\t\t\t\t\t\t\t\t\t\t\t# break\n",
    "  elif text == \"H2O\":\n",
    "    print(\"Water\")\n",
    "  elif text == \"NH3\":\n",
    "    print(\"Ammonia\")\n",
    "  elif text == \"CH4\":\n",
    "    print(\"Methane\")\n",
    "  else:\n",
    "    print(\"Unknown compound\")\n"
   ]
  },
  {
   "cell_type": "code",
   "execution_count": 6,
   "metadata": {},
   "outputs": [
    {
     "name": "stdout",
     "output_type": "stream",
     "text": [
      "One of my favorite desserts is Churros\n",
      "One of my favorite desserts is Tiramisú\n",
      "One of my favorite desserts is Pudding\n"
     ]
    }
   ],
   "source": [
    "# example - for\n",
    "favorites = ['Churros', 'Tiramisú', 'Pudding']\n",
    "\n",
    "for dessert in favorites:\n",
    "    print('One of my favorite desserts is', dessert)\n"
   ]
  },
  {
   "cell_type": "code",
   "execution_count": 11,
   "metadata": {},
   "outputs": [
    {
     "name": "stdout",
     "output_type": "stream",
     "text": [
      "R e p u b l i k   I n d o n e s i a \n",
      "Monday\n",
      "Tuesday\n",
      "Wednesday\n",
      "Thursday\n",
      "Friday\n",
      "Saturday\n",
      "Sunday\n"
     ]
    }
   ],
   "source": [
    "#example - loop (processing all items)\n",
    "country = 'Republik Indonesia'\n",
    "for ch in country:\n",
    "    print(ch, end=' ')\n",
    "\n",
    "print ()\n",
    "\n",
    "days_of_week = [\"Monday\", \"Tuesday\", \"Wednesday\", \"Thursday\", \"Friday\", \"Saturday\", \"Sunday\"]\n",
    "\n",
    "for day in days_of_week:\n",
    "    print(day)\n",
    "\n"
   ]
  },
  {
   "cell_type": "code",
   "execution_count": 12,
   "metadata": {},
   "outputs": [
    {
     "name": "stdout",
     "output_type": "stream",
     "text": [
      "Number of positive responses: 4\n"
     ]
    }
   ],
   "source": [
    "#example - loop (counting)\n",
    "survey_responses = [\"positive\", \"neutral\", \"positive\", \"negative\", \"positive\", \"positive\", \"neutral\"]\n",
    "\n",
    "positive_count = 0\n",
    "\n",
    "for response in survey_responses:\n",
    "    if response == \"positive\":\n",
    "        positive_count += 1\n",
    "\n",
    "print(f\"Number of positive responses: {positive_count}\")"
   ]
  },
  {
   "cell_type": "code",
   "execution_count": 13,
   "metadata": {},
   "outputs": [
    {
     "name": "stdout",
     "output_type": "stream",
     "text": [
      "Total revenue: $302.00\n"
     ]
    }
   ],
   "source": [
    "#example - loop (summing)\n",
    "sales_transactions = [100.50, 75.25, 50.75, 30.00, 45.50]\n",
    "\n",
    "total_revenue = 0\n",
    "\n",
    "for transaction in sales_transactions:\n",
    "    total_revenue += transaction\n",
    "\n",
    "print(f\"Total revenue: ${total_revenue:.2f}\")\n"
   ]
  },
  {
   "cell_type": "code",
   "execution_count": 14,
   "metadata": {},
   "outputs": [
    {
     "name": "stdout",
     "output_type": "stream",
     "text": [
      "Spam emails:\n",
      "user1@spam.com\n",
      "user3@spam.com\n"
     ]
    }
   ],
   "source": [
    "#example - loop (filtering)\n",
    "email_addresses = [\"user1@spam.com\", \"user2@gmail.com\", \"user3@spam.com\"]\n",
    "\n",
    "spam_emails = []\n",
    "\n",
    "for email in email_addresses:\n",
    "    if email.endswith(\"@spam.com\"):\n",
    "        spam_emails.append(email)\t\t\n",
    "\n",
    "print(\"Spam emails:\")\n",
    "for email in spam_emails:\n",
    "    print(email)\n"
   ]
  },
  {
   "cell_type": "code",
   "execution_count": 15,
   "metadata": {},
   "outputs": [
    {
     "name": "stdout",
     "output_type": "stream",
     "text": [
      "Student Charlie found.\n"
     ]
    }
   ],
   "source": [
    "#example - loop (searching)\n",
    "student_names = [\"Alice\", \"Bob\", \"Charlie\", \"David\"]\n",
    "student_name_to_search = \"Charlie\"\n",
    "\n",
    "student_found = False\n",
    "\n",
    "for name in student_names:\n",
    "    if name == student_name_to_search:\n",
    "        student_found = True\n",
    "        break\n",
    "\n",
    "if student_found:\n",
    "    print(f\"Student {student_name_to_search} found.\")\n",
    "else:\n",
    "    print(f\"Student {student_name_to_search} not found.\")\n"
   ]
  },
  {
   "cell_type": "code",
   "execution_count": 16,
   "metadata": {},
   "outputs": [
    {
     "name": "stdout",
     "output_type": "stream",
     "text": [
      "The maximum temperature of the week was 91°F.\n"
     ]
    }
   ],
   "source": [
    "#example - loop (finding maximum/minimum)\n",
    "temperatures = [75, 82, 79, 88, 91, 84, 77]\n",
    "max_temperature = temperatures[0]\n",
    "\n",
    "for temperature in temperatures:\n",
    "    if temperature > max_temperature:\n",
    "        max_temperature = temperature\n",
    "\n",
    "print(f\"The maximum temperature of the week was {max_temperature}°F.\")\n"
   ]
  },
  {
   "cell_type": "code",
   "execution_count": 22,
   "metadata": {},
   "outputs": [
    {
     "name": "stdout",
     "output_type": "stream",
     "text": [
      "Get ready for liftoff!\n",
      "5...\n",
      "4...\n",
      "3...\n",
      "2...\n",
      "1...\n",
      "Blast off!\n"
     ]
    }
   ],
   "source": [
    "#example - Looping Over a Range of Numbers (using Range())\n",
    "\n",
    "import time\n",
    "\n",
    "countdown_seconds = 5\n",
    "\n",
    "print(\"Get ready for liftoff!\")\n",
    "for remaining_seconds in range(countdown_seconds, 0, -1):\n",
    "    print(f\"{remaining_seconds}...\")\n",
    "    time.sleep(1)\n",
    "\n",
    "print(\"Blast off!\")\n"
   ]
  },
  {
   "cell_type": "code",
   "execution_count": 23,
   "metadata": {},
   "outputs": [
    {
     "name": "stdout",
     "output_type": "stream",
     "text": [
      "<< Dummy Calendar >>\n",
      "Mon Tue Wed Thu Fri Sat Sun\n",
      "  1   2   3   4   5   6   7 \n",
      "  8   9  10  11  12  13  14 \n",
      " 15  16  17  18  19  20  21 \n",
      " 22  23  24  25  26  27  28 \n",
      " 29  30 "
     ]
    }
   ],
   "source": [
    "#example - Looping Over a Range of Numbers (using Range())\n",
    "\n",
    "days_in_month = 30\n",
    "start_day = 1 #1st day of the month \n",
    "\n",
    "print(\"<< Dummy Calendar >>\")\n",
    "print(\"Mon Tue Wed Thu Fri Sat Sun\")\n",
    "for day in range(1, days_in_month + 1):\n",
    "    print(f\"{day:3d}\", end=\" \")\n",
    "\n",
    "    # new line for next week (Sunday)\n",
    "    if (day + start_day - 1) % 7 == 0:\n",
    "        print()\n"
   ]
  },
  {
   "cell_type": "code",
   "execution_count": null,
   "metadata": {},
   "outputs": [],
   "source": [
    "#example - Nesting Loops in Loops\n",
    "\n",
    "outer = ['Li', 'Na', 'K']\n",
    "inner = ['F', 'Cl', 'Br']\n",
    "for metal in outer:\n",
    "    for halogen in inner:\n",
    "        print(metal + halogen)\n"
   ]
  },
  {
   "cell_type": "code",
   "execution_count": 24,
   "metadata": {},
   "outputs": [
    {
     "name": "stdout",
     "output_type": "stream",
     "text": [
      "    *\n",
      "   ***\n",
      "  *****\n",
      " *******\n",
      "*********\n"
     ]
    }
   ],
   "source": [
    "#example - Nesting Loops in Loops\n",
    "height = 5  # Height of the pyramid\n",
    "\n",
    "for i in range(1, height + 1):\n",
    "    # Print spaces before the stars\n",
    "    for j in range(height - i):\n",
    "        print(\" \", end=\"\")\n",
    "\n",
    "    # Print the stars\n",
    "    for k in range(2 * i - 1):\n",
    "        print(\"*\", end=\"\")\n",
    "\n",
    "    # Move to the next line after each row\n",
    "    print()\n"
   ]
  },
  {
   "cell_type": "code",
   "execution_count": 25,
   "metadata": {},
   "outputs": [
    {
     "name": "stdout",
     "output_type": "stream",
     "text": [
      "Yes one of my favorite desserts is Pudding\n",
      "No sorry, that dessert is not on my list\n"
     ]
    }
   ],
   "source": [
    "# example - Controlling Loops (else)\n",
    "\n",
    "favorites = ['Churros', 'Tiramisú', 'Pudding']\n",
    "\n",
    "for dessert in favorites:\n",
    "    if dessert == 'Pudding':\n",
    "        print('Yes one of my favorite desserts is', dessert) \n",
    "else:\n",
    "    print('No sorry, that dessert is not on my list')\n"
   ]
  },
  {
   "cell_type": "code",
   "execution_count": 26,
   "metadata": {},
   "outputs": [
    {
     "name": "stdout",
     "output_type": "stream",
     "text": [
      "5\n",
      "4\n",
      "3\n",
      "2\n",
      "1\n",
      "Countdown complete! Blast off!\n"
     ]
    }
   ],
   "source": [
    "# example - Controlling Loops (else)\n",
    "\n",
    "countdown = 5\n",
    "\n",
    "while countdown > 0:\n",
    "    print(countdown)\n",
    "    countdown -= 1\n",
    "else:\n",
    "    print(\"Countdown complete! Blast off!\")\n"
   ]
  },
  {
   "cell_type": "code",
   "execution_count": null,
   "metadata": {},
   "outputs": [],
   "source": [
    "# example - Controlling Loops (else)\n",
    "\n",
    "f = open(\"sample.txt\", \"r\")\n",
    "while True:\n",
    "    line = f.readline()\n",
    "    if not line:\n",
    "        break\n",
    "    print(line.strip())\n",
    "else:\n",
    "    f.close\n"
   ]
  },
  {
   "cell_type": "code",
   "execution_count": 29,
   "metadata": {},
   "outputs": [
    {
     "name": "stdout",
     "output_type": "stream",
     "text": [
      "My favorite is Pudding\n"
     ]
    }
   ],
   "source": [
    "#Example - Controlling Loops (break)\n",
    "\n",
    "favorites = ['Churros', 'Tiramisú', 'Pudding']\n",
    "\n",
    "for dessert in favorites:\n",
    "    if dessert == 'Pudding':\n",
    "        print('My favorite is', dessert)\n",
    "        break \n",
    "else:\n",
    "    print('No sorry, not a dessert on my list')\n"
   ]
  },
  {
   "cell_type": "code",
   "execution_count": 31,
   "metadata": {},
   "outputs": [
    {
     "name": "stdout",
     "output_type": "stream",
     "text": [
      "Dispensing chips. Enjoy your snack!\n",
      "Thank you for using the vending machine.\n",
      "Vending machine session ended.\n"
     ]
    }
   ],
   "source": [
    "#Example - Controlling Loops (break)\n",
    "\n",
    "snacks_in_stock = [\"chips\", \"candy\", \"soda\", \"cookies\"]\n",
    "user_choice = \"\"\n",
    "\n",
    "while user_choice != \"q\":\n",
    "    user_choice = input(\"Enter your snack choice (or 'q' to exit): \")\n",
    "\n",
    "    # Check if the user wants to quit\n",
    "    if user_choice == \"q\":\n",
    "        print(\"Thank you for using the vending machine.\")\n",
    "        break\n",
    "\n",
    "    # Dispense the selected snack\n",
    "    print(f\"Dispensing {user_choice}. Enjoy your snack!\")\n",
    "\n",
    "print(\"Vending machine session ended.\")\n"
   ]
  },
  {
   "cell_type": "code",
   "execution_count": 32,
   "metadata": {},
   "outputs": [
    {
     "name": "stdout",
     "output_type": "stream",
     "text": [
      "Other desserts I like are Tiramisú\n",
      "Other desserts I like are Pudding\n"
     ]
    }
   ],
   "source": [
    "#Example - Controlling Loops (continue)\n",
    "\n",
    "favorites = ['Churros', 'Tiramisú', 'Pudding']\n",
    "\n",
    "for dessert in favorites:\n",
    "    if dessert == 'Churros':\n",
    "        continue\n",
    "    print('Other desserts I like are', dessert)\n"
   ]
  },
  {
   "cell_type": "code",
   "execution_count": 33,
   "metadata": {},
   "outputs": [
    {
     "name": "stdout",
     "output_type": "stream",
     "text": [
      "Dispensing candy. Enjoy your snack!\n",
      "Thank you for using the vending machine.\n",
      "Vending machine session ended.\n"
     ]
    }
   ],
   "source": [
    "#Example - Controlling Loops (continue)\n",
    "\n",
    "snacks_in_stock = [\"chips\", \"candy\", \"soda\", \"cookies\"]\n",
    "user_choice = \"\"\n",
    "\n",
    "while user_choice != \"q\":\n",
    "    user_choice = input(\"Enter your snack choice (or 'q' to exit): \")\n",
    "\n",
    "    # Check if the user wants to quit\n",
    "    if user_choice == \"q\":\n",
    "        print(\"Thank you for using the vending machine.\")\n",
    "        break\n",
    "\n",
    "    # Check if the selected snack is in stock\n",
    "    if user_choice not in snacks_in_stock:\n",
    "        print(\"Sorry, that snack is not available.\")\n",
    "        continue  # Continue iteration without dispensing the snack\n",
    "\n",
    "    # Dispense the selected snack\n",
    "    print(f\"Dispensing {user_choice}. Enjoy your snack!\")\n",
    "\n",
    "print(\"Vending machine session ended.\")\n"
   ]
  },
  {
   "cell_type": "code",
   "execution_count": 34,
   "metadata": {},
   "outputs": [
    {
     "ename": "NameError",
     "evalue": "name 'send_email' is not defined",
     "output_type": "error",
     "traceback": [
      "\u001b[1;31m---------------------------------------------------------------------------\u001b[0m",
      "\u001b[1;31mNameError\u001b[0m                                 Traceback (most recent call last)",
      "\u001b[1;32md:\\Dasar Pemrograman\\loop_in.ipynb Cell 24\u001b[0m line \u001b[0;36m8\n\u001b[0;32m      <a href='vscode-notebook-cell:/d%3A/Dasar%20Pemrograman/loop_in.ipynb#X42sZmlsZQ%3D%3D?line=5'>6</a>\u001b[0m     \u001b[39mpass\u001b[39;00m  \u001b[39m# Implementation for Charlie later\u001b[39;00m\n\u001b[0;32m      <a href='vscode-notebook-cell:/d%3A/Dasar%20Pemrograman/loop_in.ipynb#X42sZmlsZQ%3D%3D?line=6'>7</a>\u001b[0m \u001b[39melse\u001b[39;00m:\n\u001b[1;32m----> <a href='vscode-notebook-cell:/d%3A/Dasar%20Pemrograman/loop_in.ipynb#X42sZmlsZQ%3D%3D?line=7'>8</a>\u001b[0m     send_email(customer)\n",
      "\u001b[1;31mNameError\u001b[0m: name 'send_email' is not defined"
     ]
    }
   ],
   "source": [
    "#Example - Controlling Loops (pass)\n",
    "customers = [\"Alice\", \"Bob\", \"Charlie\"]\n",
    "\n",
    "for customer in customers:\n",
    "    if customer == \"Charlie\":\n",
    "        pass  # Implementation for Charlie later\n",
    "    else:\n",
    "        send_email(customer)\n"
   ]
  },
  {
   "cell_type": "code",
   "execution_count": null,
   "metadata": {},
   "outputs": [],
   "source": [
    "#Example - Controlling Loops (pass)\n",
    "\n",
    "valid_login = \"admin\"\n",
    "valid_password = \"password\"\n",
    "\n",
    "while True:\n",
    "    login = input(\"Enter your login: \")\n",
    "    password = input(\"Enter your password: \")\n",
    "\n",
    "    if login == valid_login and password == valid_password:\n",
    "        print(\"Authentication successful!\")\n",
    "        break\n",
    "    else:\n",
    "        print(\"Invalid credentials. Please try again.\")\n",
    "        pass  # Placeholder for later (e.g., account lockout)\n",
    "\n",
    "print(\"Welcome, admin!\")\n"
   ]
  },
  {
   "cell_type": "code",
   "execution_count": 39,
   "metadata": {},
   "outputs": [
    {
     "name": "stdout",
     "output_type": "stream",
     "text": [
      "Alice\n",
      "Bob\n",
      "Charlie\n"
     ]
    }
   ],
   "source": [
    "#Tips\n",
    "names = [\"Alice\", \"Bob\", \"Charlie\"]\n",
    "\n",
    "# GOOD:iterate over elements directly\n",
    "for name in names:\n",
    "    print(name)\n",
    "\n",
    "\n"
   ]
  },
  {
   "cell_type": "code",
   "execution_count": 43,
   "metadata": {},
   "outputs": [
    {
     "name": "stdout",
     "output_type": "stream",
     "text": [
      "\n",
      "Equivalent code without continue:\n",
      "1\n",
      "3\n",
      "5\n",
      "7\n",
      "9\n"
     ]
    }
   ],
   "source": [
    "# Tips\n",
    "\n",
    "# Sample list of numbers\n",
    "numbers = [1, 2, 3, 4, 5, 6, 7, 8, 9, 10]\n",
    "\n",
    "\n",
    "# GOOD: Equivalent code without continue\n",
    "print(\"\\nEquivalent code without continue:\")\n",
    "for num in numbers:\n",
    "    if num %2!= 0:\n",
    "        print (num)\n"
   ]
  },
  {
   "cell_type": "code",
   "execution_count": 45,
   "metadata": {},
   "outputs": [
    {
     "name": "stdout",
     "output_type": "stream",
     "text": [
      "0 a\n",
      "1 b\n",
      "2 c\n",
      "0 a\n",
      "1 b\n",
      "2 c\n"
     ]
    }
   ],
   "source": [
    "#Tips\n",
    "data = [\"a\", \"b\", \"c\"]\n",
    "\n",
    "# BAD:\n",
    "for i in range(len(data)):\n",
    "    print(i, data[i])\n",
    "\n",
    "# GOOD: use enumerate\n",
    "for idx, val in enumerate(data):\n",
    "    print(idx, val)\n",
    "\n",
    "\n"
   ]
  },
  {
   "cell_type": "code",
   "execution_count": 46,
   "metadata": {},
   "outputs": [
    {
     "name": "stdout",
     "output_type": "stream",
     "text": [
      "Bob scored 92\n",
      "Bob scored 92\n"
     ]
    }
   ],
   "source": [
    "#Tips\n",
    "\n",
    "students = [\"Alice\", \"Bob\", \"Charlie\", \"David\"]\n",
    "scores = [85, 92, 78, 88]\n",
    "threshold = 90\n",
    "\n",
    "\n",
    "# GOOD: Find who scored above threshold using zip()\n",
    "for student, score in zip(students, scores):\n",
    "    if score > threshold:\n",
    "        print(f\"{student} scored {score}\")\n"
   ]
  },
  {
   "cell_type": "code",
   "execution_count": 48,
   "metadata": {},
   "outputs": [
    {
     "name": "stdout",
     "output_type": "stream",
     "text": [
      "Distance between points 0 and 1: 2.83\n",
      "Distance between points 0 and 2: 5.66\n",
      "Distance between points 0 and 3: 8.49\n",
      "Distance between points 1 and 2: 2.83\n",
      "Distance between points 1 and 3: 5.66\n",
      "Distance between points 2 and 3: 2.83\n"
     ]
    }
   ],
   "source": [
    "#Tips\n",
    "import math\n",
    "\n",
    "# Sample list of points as (x, y) coordinates\n",
    "points = [(1, 2), (3, 4), (5, 6), (7, 8)]\n",
    "\n",
    "# Calculate distances between each pair of points\n",
    "distances = {}\n",
    "\n",
    "for i, point1 in enumerate(points):\n",
    "    for j, point2 in enumerate(points):\n",
    "        if i < j:  # Avoid redundancy (i.e., distance point1 and point2 = point2 and point1)\n",
    "            x1, y1 = point1\n",
    "            x2, y2 = point2\n",
    "            distance = math.sqrt((x2 - x1) ** 2 + (y2 - y1) ** 2)\n",
    "            distances[(i, j)] = distance\n",
    "\n",
    "# Print the distances\n",
    "for (i, j), distance in distances.items():\n",
    "    print(f\"Distance between points {i} and {j}: {distance:.2f}\")\n",
    "\n"
   ]
  }
 ],
 "metadata": {
  "kernelspec": {
   "display_name": "Python 3",
   "language": "python",
   "name": "python3"
  },
  "language_info": {
   "codemirror_mode": {
    "name": "ipython",
    "version": 3
   },
   "file_extension": ".py",
   "mimetype": "text/x-python",
   "name": "python",
   "nbconvert_exporter": "python",
   "pygments_lexer": "ipython3",
   "version": "3.11.5"
  },
  "orig_nbformat": 4
 },
 "nbformat": 4,
 "nbformat_minor": 2
}
