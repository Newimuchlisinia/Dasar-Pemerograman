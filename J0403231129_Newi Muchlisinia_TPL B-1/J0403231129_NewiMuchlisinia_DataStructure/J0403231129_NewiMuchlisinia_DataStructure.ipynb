{
 "cells": [
  {
   "cell_type": "markdown",
   "metadata": {},
   "source": [
    "Nama: Newi Muchlisinia\n",
    "NIM: J0403231129\n",
    "Email: newiniamuchlisinia@apps.ipb.ac.id"
   ]
  },
  {
   "cell_type": "code",
   "execution_count": 4,
   "metadata": {},
   "outputs": [
    {
     "name": "stdout",
     "output_type": "stream",
     "text": [
      "[1, 2, 3, 4, 3, 5, 6]\n",
      "[1, 2, 3, 4, 3, 5, 6, 7, 8, 9]\n",
      "[1, 2, 10, 3, 4, 3, 5, 6, 7, 8, 9]\n",
      "[1, 2, 10, 4, 3, 5, 6, 7, 8, 9]\n",
      "Popped element: 10\n",
      "[]\n",
      "Index of 3: 2\n",
      "Count of 3: 2\n",
      "[1, 2, 3, 3, 4, 5]\n",
      "[5, 4, 3, 3, 2, 1]\n",
      "[5, 4, 3, 3, 2, 1]\n",
      "Length of the list:6\n"
     ]
    }
   ],
   "source": [
    "#LIST - Examples of using Built-in Methods\n",
    "\n",
    "# Initialize a sample list\n",
    "my_list = [1, 2, 3, 4, 3, 5]\n",
    "\n",
    "# append(x)\n",
    "my_list.append(6)\n",
    "print(my_list) \n",
    "\n",
    "# extend(iterable)\n",
    "my_list.extend([7, 8, 9])\n",
    "print(my_list)\n",
    "\n",
    "# insert(i, x)\n",
    "my_list.insert(2, 10)\n",
    "print(my_list)\n",
    "\n",
    "# remove(x)\n",
    "my_list.remove(3)\n",
    "print(my_list)\n",
    "\n",
    "# pop([i])\n",
    "popped_element = my_list.pop(2)\n",
    "print(f\"Popped element: {popped_element}\")\n",
    "\n",
    "#clear()\n",
    "my_list.clear()\n",
    "print(my_list)\n",
    "\n",
    "# index(x[, start[, end]])\n",
    "my_list = [1, 2, 3, 4, 3, 5]\n",
    "index = my_list.index(3)\n",
    "print(f\"Index of 3: {index}\")\n",
    "\n",
    "# count(x) \n",
    "count = my_list.count(3)\n",
    "print(f\"Count of 3: {count}\")\n",
    "\n",
    "# sort(key=None, reverse=False) \n",
    "my_list.sort()\n",
    "print(my_list)\n",
    "\n",
    "# reverse()\n",
    "my_list.reverse()\n",
    "print(my_list)\n",
    "\n",
    "# copy()\n",
    "copy_of_list = my_list.copy()\n",
    "print(copy_of_list)\n",
    "\n",
    "# len(list) - Returns the number of elements in the list\n",
    "length = len(my_list)\n",
    "print (f\"Length of the list:{length}\")\n"
   ]
  },
  {
   "cell_type": "code",
   "execution_count": 5,
   "metadata": {},
   "outputs": [
    {
     "name": "stdout",
     "output_type": "stream",
     "text": [
      "The type of [] is: <class 'list'>\n",
      "The type of [1, 2.4, 'abc', (1, 2), [6, 78, 9]] is: <class 'list'>\n"
     ]
    }
   ],
   "source": [
    "#Creating Python lists\n",
    "list1=[] \n",
    "list2=[1,2.4,'abc',(1,2),[6,78,9]] # creating a list of different values\n",
    "print(\"The type of\",list1,\"is:\",type(list1))\n",
    "print(\"The type of\",list2,\"is:\",type(list2))\n"
   ]
  },
  {
   "cell_type": "code",
   "execution_count": 6,
   "metadata": {},
   "outputs": [
    {
     "name": "stdout",
     "output_type": "stream",
     "text": [
      "a\n",
      "[1, 3, 5.6, 'a', 'PythonGeeks', 0.4]\n",
      "PythonGeeks\n"
     ]
    }
   ],
   "source": [
    "#Accessing an element from the Python list\n",
    "list_1=[1,3,5.6,'a',\"PythonGeeks\",0.4]\n",
    "print(list_1[3])\n",
    "print(list_1)\n",
    "print(list_1[-2]) \n"
   ]
  },
  {
   "cell_type": "code",
   "execution_count": 7,
   "metadata": {},
   "outputs": [
    {
     "name": "stdout",
     "output_type": "stream",
     "text": [
      "list_1[2:5] = [5.6, 'a', 'PythonGeeks']\n",
      "list_1[:] = [1, 3, 5.6, 'a', 'PythonGeeks', 0.4]\n",
      "list_1[-5:-2] = [3, 5.6, 'a']\n",
      "list_1[3:] = ['a', 'PythonGeeks', 0.4]\n",
      "list_1[-3:] = ['a', 'PythonGeeks', 0.4]\n",
      "list_1[:2] = [1, 3]\n",
      "list_1[:-2] = [1, 3, 5.6, 'a']\n"
     ]
    }
   ],
   "source": [
    "#Slicing the list in Python\n",
    "list_1=[1,3,5.6,'a',\"PythonGeeks\",0.4]\n",
    "print(\"list_1[2:5] =\",list_1[2:5])\n",
    "print(\"list_1[:] =\",list_1[:])\n",
    "print(\"list_1[-5:-2] =\",list_1[-5:-2])\n",
    "print(\"list_1[3:] =\",list_1[3:])\n",
    "print(\"list_1[-3:] =\",list_1[-3:])\n",
    "print(\"list_1[:2] =\",list_1[:2])\n",
    "print(\"list_1[:-2] =\",list_1[:-2])\n"
   ]
  },
  {
   "cell_type": "code",
   "execution_count": 8,
   "metadata": {},
   "outputs": [
    {
     "name": "stdout",
     "output_type": "stream",
     "text": [
      "After modifying using indexing: [1, 2, 10, 4, 5]\n",
      "After modifying using slicing: [1, 20, 30, 40, 5]\n",
      "After deleting using indexing: [1, 20, 40, 5]\n",
      "After deleting using slicing: [1]\n"
     ]
    }
   ],
   "source": [
    "#Modifying and deleting from Python List\n",
    "\n",
    "# Create a list\n",
    "my_list = [1, 2, 3, 4, 5]\n",
    "\n",
    "# Modify an element using indexing\n",
    "my_list[2] = 10\n",
    "print(\"After modifying using indexing:\", my_list)\n",
    "\n",
    "# Modify a range of elements using slicing\n",
    "my_list[1:4] = [20, 30, 40]\n",
    "print(\"After modifying using slicing:\", my_list)\n",
    "\n",
    "# Delete an element using indexing\n",
    "del my_list[2]\n",
    "print(\"After deleting using indexing:\", my_list)\n",
    "\n",
    "# Delete a range of elements using slicing\n",
    "my_list[1:4] = []\n",
    "print(\"After deleting using slicing:\", my_list) \n",
    "\n",
    "# Delete the entire list\n",
    "del my_list\n",
    "\n"
   ]
  },
  {
   "cell_type": "code",
   "execution_count": 9,
   "metadata": {},
   "outputs": [
    {
     "name": "stdout",
     "output_type": "stream",
     "text": [
      "1\n",
      "2\n",
      "3\n",
      "4\n",
      "5\n",
      "Index 0: 1\n",
      "Index 1: 2\n",
      "Index 2: 3\n",
      "Index 3: 4\n",
      "Index 4: 5\n",
      "5\n",
      "4\n",
      "3\n",
      "2\n",
      "1\n"
     ]
    }
   ],
   "source": [
    "#Common Ways to Loop Through a List\n",
    "\n",
    "# Create a sample list\n",
    "my_list = [1, 2, 3, 4, 5]\n",
    "\n",
    "# Method 1: Loop through the list and print each element\n",
    "for item in my_list:\n",
    "    print(item)\n",
    "\n",
    "# Method 2: Loop through the list with index using enumerate()\n",
    "for index, item in enumerate(my_list):\n",
    "    print(f\"Index {index}: {item}\")\n",
    "\n",
    "# Method 3: Loop through the list in reverse order\n",
    "for item in reversed(my_list):\n",
    "    print(item)\n"
   ]
  },
  {
   "cell_type": "code",
   "execution_count": 10,
   "metadata": {},
   "outputs": [
    {
     "name": "stdout",
     "output_type": "stream",
     "text": [
      "[1, 4, 9, 16, 25]\n",
      "['apple', 'orange', 'cherry', 'kiwi', 'mango']\n"
     ]
    }
   ],
   "source": [
    "#List Comprehension in Python\n",
    "\n",
    "# Sample 1:\n",
    "list1=[1,-2,3,-4,5]\n",
    "list2=[x**2 for x in list1]\n",
    "print(list2)\n",
    "\n",
    "# Sample 2 (with condition):\n",
    "fruits = [\"apple\", \"banana\", \"cherry\", \"kiwi\", \"mango\"]\n",
    "newlist = [x if x != \"banana\" else \"orange\" for x in fruits]\n",
    "print(newlist)\n"
   ]
  },
  {
   "cell_type": "code",
   "execution_count": 12,
   "metadata": {},
   "outputs": [
    {
     "name": "stdout",
     "output_type": "stream",
     "text": [
      "Python\n",
      "5\n",
      "Developer\n"
     ]
    }
   ],
   "source": [
    "# emp_info=['Python',5,'Developer']\n",
    "\n",
    "emp_info=['Python',5,'Developer']\n",
    "#List unpacking\n",
    "skill,exp,role=emp_info\n",
    "print (skill)\n",
    "print (exp)\t\n",
    "print (role)"
   ]
  },
  {
   "cell_type": "code",
   "execution_count": 13,
   "metadata": {},
   "outputs": [
    {
     "name": "stdout",
     "output_type": "stream",
     "text": [
      "User clicked the back button. Navigating to: Contact Us\n",
      "User clicked the back button. Navigating to: Blog\n"
     ]
    }
   ],
   "source": [
    "#Using Lists as Stacks - Example\n",
    "\n",
    "browser_history = []\n",
    "browser_history.append(\"Homepage\")\n",
    "browser_history.append(\"About Us\")\n",
    "browser_history.append(\"Products\")\n",
    "browser_history.append(\"Contact Us\")\n",
    "\n",
    "if len(browser_history) > 0:\n",
    "    current_page = browser_history.pop()\n",
    "    print(\"User clicked the back button. Navigating to:\", current_page)\n",
    "\n",
    "browser_history.append(\"FAQs\")\n",
    "browser_history.append(\"Blog\")\n",
    "\n",
    "if len(browser_history) > 0:\n",
    "    current_page = browser_history.pop()\n",
    "    print(\"User clicked the back button. Navigating to:\", current_page)\n"
   ]
  },
  {
   "cell_type": "code",
   "execution_count": 14,
   "metadata": {},
   "outputs": [
    {
     "name": "stdout",
     "output_type": "stream",
     "text": [
      "\n",
      "Queue before:\n",
      "['Person 1', 'Person 2', 'Person 3']\n",
      "\n",
      "Elements dequeued from queue :  Person 1\n",
      "\n",
      "Queue after:\n",
      "['Person 2', 'Person 3']\n"
     ]
    }
   ],
   "source": [
    "#Using Lists as Queue - Example\n",
    "\n",
    "queue = ['Person 1','Person 2']  \n",
    "queue.append('Person 3') \n",
    "  \n",
    "print(\"\\nQueue before:\") \n",
    "print(queue) \n",
    "print(\"\\nElements dequeued from queue : \", queue.pop(0)) \n",
    "  \n",
    "print(\"\\nQueue after:\") \n",
    "print(queue)\n"
   ]
  },
  {
   "cell_type": "code",
   "execution_count": 15,
   "metadata": {},
   "outputs": [
    {
     "name": "stdout",
     "output_type": "stream",
     "text": [
      "5\n",
      "2\n",
      "0\n"
     ]
    }
   ],
   "source": [
    "#Built-in Methods of Tuples\n",
    "\n",
    "tup=(9,6,'g','Python',7.4)\n",
    "print(len(tup))\n",
    "print(tup.index('g'))\n",
    "\n",
    "print(tup.count('a'))\n"
   ]
  },
  {
   "cell_type": "code",
   "execution_count": 16,
   "metadata": {},
   "outputs": [
    {
     "name": "stdout",
     "output_type": "stream",
     "text": [
      "Tuple t1: (1, 2, 3, 4)\n",
      "Tuple t2: (1, 2, 3, 4, 5)\n",
      "Tuple t3: (1, 2, 3, 4, 5, 6)\n"
     ]
    }
   ],
   "source": [
    "#Creating Tuples\n",
    "\n",
    "t1 = (1, 2, 3, 4)\n",
    "t2 = tuple([1, 2, 3, 4, 5])\n",
    "t3 = tuple([1, 2, 3, 4, 5, 6])\n",
    "\n",
    "print(f\"Tuple t1: {t1}\")\n",
    "print(f\"Tuple t2: {t2}\")\n",
    "print(f\"Tuple t3: {t3}\")\n"
   ]
  },
  {
   "cell_type": "code",
   "execution_count": 17,
   "metadata": {},
   "outputs": [
    {
     "name": "stdout",
     "output_type": "stream",
     "text": [
      "tup1[0]:  physics\n",
      "tup2[1:5]:  (2, 3, 4, 5)\n"
     ]
    }
   ],
   "source": [
    "# Accessing Values in Tuples\n",
    "\n",
    "tup1 = ('physics', 'chemistry', 1997, 2000);\n",
    "tup2 = (1, 2, 3, 4, 5, 6, 7 );\n",
    "print (\"tup1[0]: \", tup1[0])\n",
    "print (\"tup2[1:5]: \", tup2[1:5])\n"
   ]
  },
  {
   "cell_type": "code",
   "execution_count": 18,
   "metadata": {},
   "outputs": [
    {
     "name": "stdout",
     "output_type": "stream",
     "text": [
      "(12, 34.56, 'abc', 'xyz')\n"
     ]
    }
   ],
   "source": [
    "#Updating Tuples\n",
    "\n",
    "tup1 = (12, 34.56);\n",
    "tup2 = ('abc', 'xyz');\n",
    "tup3 = tup1 + tup2;\n",
    "print (tup3);\n"
   ]
  },
  {
   "cell_type": "code",
   "execution_count": 20,
   "metadata": {},
   "outputs": [
    {
     "name": "stdout",
     "output_type": "stream",
     "text": [
      "('physics', 'chemistry', 1997, 2000)\n",
      "After deleting tup : \n"
     ]
    },
    {
     "ename": "NameError",
     "evalue": "name 'tup' is not defined",
     "output_type": "error",
     "traceback": [
      "\u001b[1;31m---------------------------------------------------------------------------\u001b[0m",
      "\u001b[1;31mNameError\u001b[0m                                 Traceback (most recent call last)",
      "\u001b[1;32md:\\Dasar Pemrograman\\J0403231129_NewiMuchlisinia_DasarPemrograman.ipynb Cell 16\u001b[0m line \u001b[0;36m5\n\u001b[0;32m      <a href='vscode-notebook-cell:/d%3A/Dasar%20Pemrograman/J0403231129_NewiMuchlisinia_DasarPemrograman.ipynb#X23sZmlsZQ%3D%3D?line=2'>3</a>\u001b[0m \u001b[39mdel\u001b[39;00m tup;\n\u001b[0;32m      <a href='vscode-notebook-cell:/d%3A/Dasar%20Pemrograman/J0403231129_NewiMuchlisinia_DasarPemrograman.ipynb#X23sZmlsZQ%3D%3D?line=3'>4</a>\u001b[0m \u001b[39mprint\u001b[39m (\u001b[39m\"\u001b[39m\u001b[39mAfter deleting tup : \u001b[39m\u001b[39m\"\u001b[39m);\n\u001b[1;32m----> <a href='vscode-notebook-cell:/d%3A/Dasar%20Pemrograman/J0403231129_NewiMuchlisinia_DasarPemrograman.ipynb#X23sZmlsZQ%3D%3D?line=4'>5</a>\u001b[0m \u001b[39mprint\u001b[39m (tup);\n",
      "\u001b[1;31mNameError\u001b[0m: name 'tup' is not defined"
     ]
    }
   ],
   "source": [
    "#Delete Tuple Elements\n",
    "tup = ('physics', 'chemistry', 1997, 2000);\n",
    "print (tup);\n",
    "del tup;\n",
    "print (\"After deleting tup : \");\n",
    "print (tup);\t# an exception raised, because after del tup tuple does not exist anymore"
   ]
  },
  {
   "cell_type": "code",
   "execution_count": 21,
   "metadata": {},
   "outputs": [
    {
     "data": {
      "text/plain": [
       "(1, 2, 3, 4, 6)"
      ]
     },
     "execution_count": 21,
     "metadata": {},
     "output_type": "execute_result"
    }
   ],
   "source": [
    "# Changing Python tuple value by using list()\n",
    "tup=(1,2,3,4,5)\n",
    "list1=list(tup)\n",
    "list1[4]=6\n",
    "\n",
    "tup=tuple(list1)\n",
    "tup\n"
   ]
  },
  {
   "cell_type": "code",
   "execution_count": 22,
   "metadata": {},
   "outputs": [
    {
     "name": "stdout",
     "output_type": "stream",
     "text": [
      "The type of  (1, 2, 3) is: <class 'tuple'>\n",
      "1\n",
      "2\n",
      "3\n"
     ]
    }
   ],
   "source": [
    "#Tuple Packing and Unpacking\n",
    "tup=1,2,3 #packing\n",
    "print(\"The type of \",tup,\"is:\",type(tup))\n",
    "\n",
    "a,b,c=tup\n",
    "print(a)\n",
    "print(b)\n",
    "print(c)\n"
   ]
  },
  {
   "cell_type": "code",
   "execution_count": 23,
   "metadata": {},
   "outputs": [
    {
     "name": "stdout",
     "output_type": "stream",
     "text": [
      "o\n",
      "dict_keys([1, 2, 3, 4, 5])\n",
      "dict_values(['a', 'e', 'i', 'o', 'u'])\n",
      "dict_items([(1, 'a'), (2, 'e'), (3, 'i'), (4, 'o'), (5, 'u')])\n",
      "The value of var1 is: e\n",
      "The value of var2 is: (5, 'u')\n"
     ]
    },
    {
     "data": {
      "text/plain": [
       "{}"
      ]
     },
     "execution_count": 23,
     "metadata": {},
     "output_type": "execute_result"
    }
   ],
   "source": [
    "#Built-in Methods of Dictionaries - Example\n",
    "\n",
    "dict1={1:'a',2:'e',3:'i',4:'o',5:'u'}\n",
    "print(dict1.get(4))\n",
    "\n",
    "print(dict1.keys())\n",
    "\n",
    "print(dict1.values())\n",
    "\n",
    "print(dict1.items())\n",
    "\n",
    "var1=dict1.pop(2)\n",
    "print(\"The value of var1 is:\",var1)\n",
    "\n",
    "var2=dict1.popitem()\n",
    "print(\"The value of var2 is:\",var2)\n",
    "\n",
    "dict1.clear()\n",
    "dict1\n"
   ]
  },
  {
   "cell_type": "code",
   "execution_count": 24,
   "metadata": {},
   "outputs": [
    {
     "name": "stdout",
     "output_type": "stream",
     "text": [
      "dict['Name']:  Zara\n",
      "dict['Age']:  7\n"
     ]
    }
   ],
   "source": [
    "# Accessing Values in Dictionary\n",
    "\n",
    "dict = {'Name': 'Zara', 'Age': 7, 'Class': 'First'}\n",
    "print (\"dict['Name']: \", dict['Name'])\n",
    "print (\"dict['Age']: \", dict['Age'])\n"
   ]
  },
  {
   "cell_type": "code",
   "execution_count": 25,
   "metadata": {},
   "outputs": [
    {
     "name": "stdout",
     "output_type": "stream",
     "text": [
      "dict['Age']:  8\n",
      "dict['School']:  DPS School\n"
     ]
    }
   ],
   "source": [
    "# Updating Dictionary\n",
    "dict = {'Name': 'Zara', 'Age': 7, 'Class': 'First'}\n",
    "dict['Age'] = 8; # update existing entry\n",
    "dict['School'] = \"DPS School\"; # Add new entry\n",
    "\n",
    "print (\"dict['Age']: \", dict['Age'])\n",
    "print (\"dict['School']: \", dict['School'])"
   ]
  },
  {
   "cell_type": "code",
   "execution_count": null,
   "metadata": {},
   "outputs": [],
   "source": [
    "#Delete Dictionary Elements\n",
    "dict = {'Name': 'Zara', 'Age': 7, 'Class': 'First'}\n",
    "del dict['Name']; \n",
    "dict.clear();  \n",
    "del dict ;       \t\n",
    "\n",
    "# an exception is raised here because after del dict dictionary does not exist any more :\n",
    "print (\"dict['Age']: \", dict['Age'])\n",
    "print (\"dict['School']: \", dict['School'])\n"
   ]
  },
  {
   "cell_type": "code",
   "execution_count": 27,
   "metadata": {},
   "outputs": [
    {
     "name": "stdout",
     "output_type": "stream",
     "text": [
      "name -> Alice\n",
      "age -> 25\n",
      "city -> New York\n",
      "name -> Alice\n",
      "age -> 25\n",
      "city -> New York\n",
      "name -> Alice\n",
      "age -> 25\n",
      "city -> New York\n",
      "Alice\n",
      "25\n",
      "New York\n"
     ]
    }
   ],
   "source": [
    "#Common Ways to Loop through a Dictionary\n",
    "\n",
    "# Creating a sample dictionary\n",
    "my_dict = {\"name\": \"Alice\", \"age\": 25, \"city\": \"New York\"}\n",
    "\n",
    "# Method 1: Loop through keys and access values\n",
    "for key in my_dict:\n",
    "    print(key, \"->\", my_dict[key])\n",
    "\n",
    "# Method 2: Loop through keys and values using .items()\n",
    "for key, value in my_dict.items():\n",
    "    print(key, \"->\", value)\n",
    "\n",
    "# Method 3: Loop through keys using .keys() (less common)\n",
    "for key in my_dict.keys():\n",
    "    print(key, \"->\", my_dict[key])\n",
    "\n",
    "# Method 4: Loop through values using .values()\n",
    "for value in my_dict.values():\n",
    "    print(value)\n"
   ]
  },
  {
   "cell_type": "code",
   "execution_count": null,
   "metadata": {},
   "outputs": [],
   "source": [
    "#Properties of Dictionary Keys\n",
    "\n",
    "dict = {'Name': 'Zara', 'Age': 7, 'Name': 'Manni'}\n",
    "print (\"dict['Name']: \", dict['Name'])"
   ]
  },
  {
   "cell_type": "code",
   "execution_count": 28,
   "metadata": {},
   "outputs": [
    {
     "name": "stdout",
     "output_type": "stream",
     "text": [
      "{'Wed', 'Fri', 'Thu', 'Mon', 'Tue', 'Sun', 'Sat'}\n",
      "{'Jan', 'Feb', 'Mar'}\n",
      "{17, 21, 22}\n"
     ]
    }
   ],
   "source": [
    "# Creating a Set\n",
    "\n",
    "Days=set([\"Mon\",\"Tue\",\"Wed\",\"Thu\",\"Fri\",\"Sat\",\"Sun\"])\n",
    "Months={\"Jan\",\"Feb\",\"Mar\"}\n",
    "Dates={21,22,17}\n",
    "print(Days)\n",
    "print(Months)\n",
    "print(Dates)\n"
   ]
  },
  {
   "cell_type": "code",
   "execution_count": 29,
   "metadata": {},
   "outputs": [
    {
     "name": "stdout",
     "output_type": "stream",
     "text": [
      "Wed\n",
      "Fri\n",
      "Thu\n",
      "Mon\n",
      "Tue\n",
      "Sun\n",
      "Sat\n"
     ]
    }
   ],
   "source": [
    "# Accessing Values in a Set\n",
    "\n",
    "Days=set([\"Mon\",\"Tue\",\"Wed\",\"Thu\",\"Fri\",\"Sat\",\"Sun\"])\n",
    " \n",
    "for d in Days:\n",
    "   print(d)\n"
   ]
  },
  {
   "cell_type": "code",
   "execution_count": 30,
   "metadata": {},
   "outputs": [
    {
     "name": "stdout",
     "output_type": "stream",
     "text": [
      "{'Wed', 'Fri', 'Thu', 'Mon', 'Tue', 'Sun', 'Sat'}\n",
      "{'Wed', 'Fri', 'Thu', 'Mon', 'Tue', 'Sat'}\n"
     ]
    }
   ],
   "source": [
    "# Adding & Removing Items to a Set\n",
    "\n",
    "Days=set([\"Mon\",\"Tue\",\"Wed\",\"Thu\",\"Fri\",\"Sat\"])\n",
    " \n",
    "Days.add(\"Sun\")\n",
    "print(Days)\n",
    "\n",
    "Days=set([\"Mon\",\"Tue\",\"Wed\",\"Thu\",\"Fri\",\"Sat\"])\n",
    " \n",
    "Days.discard(\"Sun\")\n",
    "print(Days)\n"
   ]
  },
  {
   "cell_type": "code",
   "execution_count": 31,
   "metadata": {},
   "outputs": [
    {
     "name": "stdout",
     "output_type": "stream",
     "text": [
      "{'Wed', 'Fri', 'Thu', 'Mon', 'Tue', 'Sun', 'Sat'}\n",
      "{'Wed'}\n",
      "{'Mon', 'Tue'}\n"
     ]
    }
   ],
   "source": [
    "# Union, Intersection, and Difference of Sets\n",
    "\n",
    "DaysA = set([\"Mon\",\"Tue\",\"Wed\"])\n",
    "DaysB = set([\"Wed\",\"Thu\",\"Fri\",\"Sat\",\"Sun\"])\n",
    "print(DaysA|DaysB)\t\n",
    "print(DaysA & DaysB)\n",
    "print(DaysA - DaysB)"
   ]
  },
  {
   "cell_type": "code",
   "execution_count": 32,
   "metadata": {},
   "outputs": [
    {
     "name": "stdout",
     "output_type": "stream",
     "text": [
      "{'id': 12458, 'name': 'Paul', 'department': 'House Floor'}\n"
     ]
    }
   ],
   "source": [
    "# Using List of Tuples\n",
    "\n",
    "employee_list = [(12345, \"John\", \"Kitchen\"), (12458, \"Paul\", \"House Floor\")]\n",
    "\n",
    "def get_employee(id):\n",
    "    for employee in employee_list:\n",
    "        if employee[0] == id:\n",
    "            return {\"id\": employee[0], \"name\": employee[1], \"department\": employee[2]}\n",
    "\n",
    "print(get_employee(12458))\n",
    "\n"
   ]
  },
  {
   "cell_type": "code",
   "execution_count": 33,
   "metadata": {},
   "outputs": [
    {
     "name": "stdout",
     "output_type": "stream",
     "text": [
      "{'id': '12458', 'name': 'Paul', 'department': 'House Floor'}\n"
     ]
    }
   ],
   "source": [
    "# Using Dictionary\n",
    "\n",
    "employee_dict = {\n",
    "    12345: {\n",
    "        \"id\": \"12345\",\n",
    "        \"name\": \"John\", \n",
    "        \"department\": \"Kitchen\"    \n",
    "    },\n",
    "    12458: {\n",
    "        \"id\": \"12458\",\n",
    "        \"name\": \"Paul\", \n",
    "        \"department\": \"House Floor\"    \n",
    "    }\n",
    "}\n",
    "\n",
    "def get_employee_from_dict(id):\n",
    "    return employee_dict[id];\n",
    "\n",
    "print(get_employee_from_dict(12458));\n"
   ]
  },
  {
   "cell_type": "code",
   "execution_count": null,
   "metadata": {},
   "outputs": [],
   "source": []
  }
 ],
 "metadata": {
  "kernelspec": {
   "display_name": "Python 3",
   "language": "python",
   "name": "python3"
  },
  "language_info": {
   "codemirror_mode": {
    "name": "ipython",
    "version": 3
   },
   "file_extension": ".py",
   "mimetype": "text/x-python",
   "name": "python",
   "nbconvert_exporter": "python",
   "pygments_lexer": "ipython3",
   "version": "3.11.5"
  }
 },
 "nbformat": 4,
 "nbformat_minor": 2
}
